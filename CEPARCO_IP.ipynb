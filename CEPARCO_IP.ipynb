{
  "nbformat": 4,
  "nbformat_minor": 0,
  "metadata": {
    "colab": {
      "provenance": [],
      "gpuType": "T4",
      "include_colab_link": true
    },
    "kernelspec": {
      "name": "python3",
      "display_name": "Python 3"
    },
    "language_info": {
      "name": "python"
    },
    "accelerator": "GPU"
  },
  "cells": [
    {
      "cell_type": "markdown",
      "metadata": {
        "id": "view-in-github",
        "colab_type": "text"
      },
      "source": [
        "<a href=\"https://colab.research.google.com/github/MichaelGelo/GRP2_CEPARCO_IP/blob/main/CEPARCO_IP.ipynb\" target=\"_parent\"><img src=\"https://colab.research.google.com/assets/colab-badge.svg\" alt=\"Open In Colab\"/></a>"
      ]
    },
    {
      "cell_type": "markdown",
      "source": [
        "# **Group 2 - Implementing Hyyrö’s Bit Vector Algorithm Using CUDA SIMT**\n",
        "## **GROUP 2 - S11**\n",
        "\n",
        "**MEMBERS:**\n",
        "\n",
        "- Alfred Bastin S. Agustines\n",
        "- Allan David C. De Leon\n",
        "- Michael Angelo Depasucat\n",
        "- Kai Hiori J. Padilla\n"
      ],
      "metadata": {
        "id": "lYFAEMSCjMia"
      }
    },
    {
      "cell_type": "markdown",
      "source": [
        "##Check if CUDA is present"
      ],
      "metadata": {
        "id": "F2WHo8MojeI2"
      }
    },
    {
      "cell_type": "code",
      "execution_count": 4,
      "metadata": {
        "id": "FMQ6IHLDh37V",
        "outputId": "bebe11d5-3039-497c-d6ba-522b79124272",
        "colab": {
          "base_uri": "https://localhost:8080/"
        }
      },
      "outputs": [
        {
          "output_type": "stream",
          "name": "stdout",
          "text": [
            "Wed Mar 12 14:11:25 2025       \n",
            "+-----------------------------------------------------------------------------------------+\n",
            "| NVIDIA-SMI 550.54.15              Driver Version: 550.54.15      CUDA Version: 12.4     |\n",
            "|-----------------------------------------+------------------------+----------------------+\n",
            "| GPU  Name                 Persistence-M | Bus-Id          Disp.A | Volatile Uncorr. ECC |\n",
            "| Fan  Temp   Perf          Pwr:Usage/Cap |           Memory-Usage | GPU-Util  Compute M. |\n",
            "|                                         |                        |               MIG M. |\n",
            "|=========================================+========================+======================|\n",
            "|   0  Tesla T4                       Off |   00000000:00:04.0 Off |                    0 |\n",
            "| N/A   42C    P8              9W /   70W |       0MiB /  15360MiB |      0%      Default |\n",
            "|                                         |                        |                  N/A |\n",
            "+-----------------------------------------+------------------------+----------------------+\n",
            "                                                                                         \n",
            "+-----------------------------------------------------------------------------------------+\n",
            "| Processes:                                                                              |\n",
            "|  GPU   GI   CI        PID   Type   Process name                              GPU Memory |\n",
            "|        ID   ID                                                               Usage      |\n",
            "|=========================================================================================|\n",
            "|  No running processes found                                                             |\n",
            "+-----------------------------------------------------------------------------------------+\n"
          ]
        }
      ],
      "source": [
        "gpu_info = !nvidia-smi\n",
        "gpu_info = '\\n'.join(gpu_info)\n",
        "if gpu_info.find('failed') >= 0:\n",
        "  print('Not connected to a GPU')\n",
        "else:\n",
        "  print(gpu_info)"
      ]
    },
    {
      "cell_type": "markdown",
      "source": [
        "##C"
      ],
      "metadata": {
        "id": "NYfqCa2OltNb"
      }
    },
    {
      "cell_type": "code",
      "source": [
        "%%writefile C_hyyro.c\n",
        "#include <stdio.h>\n",
        "#include <stdlib.h>\n",
        "#include <string.h>\n",
        "#include <stdint.h>\n",
        "#include <time.h>\n",
        "\n",
        "#define MAX_LENGTH 64\n",
        "\n",
        "typedef uint64_t bitvector;\n",
        "\n",
        "int bit_vector_levenshtein(const char *query, const char *reference) {\n",
        "    int m = strlen(query);\n",
        "    int n = strlen(reference);\n",
        "    if (m > MAX_LENGTH || n > MAX_LENGTH) {\n",
        "        printf(\"Error: Strings too long for this implementation!\\n\");\n",
        "        return -1;\n",
        "    }\n",
        "\n",
        "    bitvector Pv = ~0ULL;\n",
        "    bitvector Mv = 0;\n",
        "    bitvector Eq[256] = {0};\n",
        "    bitvector Ph, Mh, Xv, Xh, Xp;\n",
        "\n",
        "    for (int i = 0; i < m; i++) {\n",
        "        Eq[(unsigned char)query[i]] |= (1ULL << i);\n",
        "    }\n",
        "\n",
        "    int score = m;\n",
        "\n",
        "    for (int j = 0; j < n; j++) {\n",
        "        Xv = Eq[(unsigned char)reference[j]] | Mv;\n",
        "        Xh = ((~Xh & Xv) << 1) & Xp;\n",
        "\n",
        "        Xh = Xh | ((Xv & Pv) + Pv) ^ Pv | Xv | Mv;\n",
        "        Ph = Mv | ~(Xh | Pv);\n",
        "        Mh = Xh & Pv;\n",
        "        Xp = Xv;\n",
        "\n",
        "        if (Ph & (1ULL << (m - 1))) score++;\n",
        "        if (Mh & (1ULL << (m - 1))) score--;\n",
        "\n",
        "        Xv = (Ph << 1);\n",
        "        Pv = (Mh << 1) | ~(Xh | Xv);\n",
        "        Mv = Xh & Xv;\n",
        "    }\n",
        "\n",
        "    return score;\n",
        "}\n",
        "\n",
        "int main() {\n",
        "    const size_t loope = 10;\n",
        "    clock_t start, end;\n",
        "    double elapse = 0.0f;\n",
        "\n",
        "    const char *query = \"tcg\";\n",
        "    const char *reference = \"attattcga\";\n",
        "\n",
        "    printf(\"Reference: %s\\n\", reference);\n",
        "    printf(\"Query: %s\\n\", query);\n",
        "\n",
        "    int distance = bit_vector_levenshtein(query, reference);\n",
        "    if (distance >= 0) {\n",
        "        printf(\"Edit Distance between \\\"%s\\\" and \\\"%s\\\" is: %d\\n\", query, reference, distance);\n",
        "    }\n",
        "\n",
        "    for (int i = 0; i < loope; i++) {\n",
        "        start = clock();\n",
        "        bit_vector_levenshtein(query, reference);\n",
        "        end = clock();\n",
        "        elapse += ((double)(end - start)) * 1E3 / CLOCKS_PER_SEC;\n",
        "    }\n",
        "    printf(\"Function (in C) average time for %lu loops is %f milliseconds\\n\", loope, elapse / loope);\n",
        "\n",
        "    return 0;\n",
        "}\n"
      ],
      "metadata": {
        "id": "kRPhGmz5lxu_",
        "outputId": "bf579143-b2a5-46a8-cf42-e7c2968062a7",
        "colab": {
          "base_uri": "https://localhost:8080/"
        }
      },
      "execution_count": 9,
      "outputs": [
        {
          "output_type": "stream",
          "name": "stdout",
          "text": [
            "Overwriting C_hyyro.c\n"
          ]
        }
      ]
    },
    {
      "cell_type": "code",
      "source": [
        "%%shell\n",
        "gcc C_hyyro.c -o C_hyyro"
      ],
      "metadata": {
        "id": "hmlgNZSQnuiw",
        "outputId": "c85fe699-467c-47f3-ed4d-991f59c45ada",
        "colab": {
          "base_uri": "https://localhost:8080/"
        }
      },
      "execution_count": 10,
      "outputs": [
        {
          "output_type": "execute_result",
          "data": {
            "text/plain": []
          },
          "metadata": {},
          "execution_count": 10
        }
      ]
    },
    {
      "cell_type": "code",
      "source": [
        "%%shell\n",
        "./C_hyyro"
      ],
      "metadata": {
        "id": "wdjR7db7nzFB",
        "outputId": "7b6ef392-eff6-4801-aa30-cc98e292717b",
        "colab": {
          "base_uri": "https://localhost:8080/"
        }
      },
      "execution_count": 11,
      "outputs": [
        {
          "output_type": "stream",
          "name": "stdout",
          "text": [
            "Reference: attattcga\n",
            "Query: tcg\n",
            "Edit Distance between \"tcg\" and \"attattcga\" is: 1\n",
            "Function (in C) average time for 10 loops is 0.000400 milliseconds\n"
          ]
        },
        {
          "output_type": "execute_result",
          "data": {
            "text/plain": []
          },
          "metadata": {},
          "execution_count": 11
        }
      ]
    },
    {
      "cell_type": "markdown",
      "source": [
        "##CUDA"
      ],
      "metadata": {
        "id": "iZ2Zjg52jlxE"
      }
    },
    {
      "cell_type": "code",
      "source": [
        "%%writefile CUDA.cu\n",
        "\n",
        "#include <stdio.h>\n",
        "#include <stdlib.h>\n",
        "#include <stdint.h>\n",
        "#include <string.h>\n",
        "#include <cuda_runtime.h>\n",
        "\n",
        "// Prefetch + page creation + memadvise\n",
        "#define MAX_LENGTH 64\n",
        "typedef uint64_t bitvector;\n",
        "__constant__ bitvector d_Eq[256];\n",
        "\n",
        "__host__ __device__ int bit_vector_levenshtein(int query_length, const char *reference, int reference_length, const bitvector *Eq) {\n",
        "    if (query_length > MAX_LENGTH || reference_length > MAX_LENGTH) {\n",
        "        return -1;\n",
        "    }\n",
        "\n",
        "    bitvector Pv = ~0ULL;\n",
        "    bitvector Mv = 0;\n",
        "    bitvector Ph = 0;\n",
        "    bitvector Mh = 0;\n",
        "    bitvector Xv = 0;\n",
        "    bitvector Xh = 0;\n",
        "    bitvector Xp = 0;\n",
        "    int score = query_length;\n",
        "\n",
        "    for (int j = 0; j < reference_length; j++) {\n",
        "        unsigned char c = reference[j];\n",
        "        Xv = Eq[c] | Mv;\n",
        "\n",
        "        Xh = ((~Xh & Xv) << 1) & Xp;\n",
        "\n",
        "        // Explicit parentheses for clarity\n",
        "        Xh = Xh | ((((Xv & Pv) + Pv) ^ Pv) | Xv | Mv);\n",
        "\n",
        "        Ph = Mv | ~(Xh | Pv);\n",
        "        Mh = Xh & Pv;\n",
        "        Xp = Xv;\n",
        "\n",
        "        if (Ph & (1ULL << (query_length - 1))) score++;\n",
        "        if (Mh & (1ULL << (query_length - 1))) score--;\n",
        "\n",
        "        Xv = (Ph << 1);\n",
        "        Pv = (Mh << 1) | ~(Xh | Xv);\n",
        "        Mv = Xh & Xv;\n",
        "    }\n",
        "\n",
        "    return score;\n",
        "}\n",
        "\n",
        "__global__ void levenshtein_kernel(int query_length, const char *references, const int *reference_lengths, int *distances, int num_references) {\n",
        "    int idx = blockIdx.x * blockDim.x + threadIdx.x;\n",
        "    int stride = blockDim.x * gridDim.x;\n",
        "\n",
        "    for (int i = idx; i < num_references; i += stride) {\n",
        "        const char *reference = &references[i * MAX_LENGTH];\n",
        "        int reference_length = reference_lengths[i];\n",
        "        // Use the constant memory table on the device.\n",
        "        distances[i] = bit_vector_levenshtein(query_length, reference, reference_length, d_Eq);\n",
        "    }\n",
        "}\n",
        "\n",
        "int main(){\n",
        "    const char *query = \"tcg\"; // Query DNA sequence\n",
        "    int query_length = strlen(query);\n",
        "    if (query_length > MAX_LENGTH) {\n",
        "        printf(\"Query sequence too long!\\n\");\n",
        "        return -1;\n",
        "    }\n",
        "\n",
        "    // Precompute Eq for the query and store it in host memory.\n",
        "    bitvector h_Eq[256] = {0};\n",
        "    for (int i = 0; i < query_length; i++) {\n",
        "        h_Eq[(unsigned char)query[i]] |= (1ULL << i);\n",
        "    }\n",
        "\n",
        "    // Copy Eq to constant memory on the device.\n",
        "    cudaMemcpyToSymbol(d_Eq, h_Eq, sizeof(bitvector) * 256);\n",
        "\n",
        "    // Reference sequences to process\n",
        "    const char *references_input[] = { \"attattcga\", \"atttcatctcgt\" }; // Reference DNA sequences (Dummy lang toh, palagay ako ng actua data)\n",
        "    int num_references = 2;\n",
        "    int reference_lengths[num_references];\n",
        "    for (int i = 0; i < num_references; i++) {\n",
        "        reference_lengths[i] = strlen(references_input[i]);\n",
        "        if (reference_lengths[i] > MAX_LENGTH) {\n",
        "            printf(\"Reference sequence %d too long!\\n\", i);\n",
        "            return -1;\n",
        "        }\n",
        "    }\n",
        "\n",
        "    // Allocate Unified Memory\n",
        "    char *references;\n",
        "    int *d_reference_lengths, *d_distances;\n",
        "    cudaMallocManaged(&references, num_references * MAX_LENGTH * sizeof(char));\n",
        "    cudaMallocManaged(&d_reference_lengths, num_references * sizeof(int));\n",
        "    cudaMallocManaged(&d_distances, num_references * sizeof(int));\n",
        "\n",
        "    // Copy references and lengths to managed memory\n",
        "    for (int i = 0; i < num_references; i++) {\n",
        "        strncpy(&references[i * MAX_LENGTH], references_input[i], MAX_LENGTH);\n",
        "        d_reference_lengths[i] = reference_lengths[i];\n",
        "    }\n",
        "\n",
        "    // Get GPU device ID\n",
        "    int device = -1;\n",
        "    cudaGetDevice(&device);\n",
        "\n",
        "    // Memory advise\n",
        "    cudaMemAdvise(references, num_references * MAX_LENGTH * sizeof(char), cudaMemAdviseSetReadMostly, device);\n",
        "    cudaMemAdvise(d_reference_lengths, num_references * sizeof(int), cudaMemAdviseSetReadMostly, device);\n",
        "    cudaMemAdvise(d_distances, num_references * sizeof(int), cudaMemAdviseSetPreferredLocation, device);\n",
        "\n",
        "    // Prefetch data\n",
        "    cudaMemPrefetchAsync(references, num_references * MAX_LENGTH * sizeof(char), device, NULL);\n",
        "    cudaMemPrefetchAsync(d_reference_lengths, num_references * sizeof(int), device, NULL);\n",
        "    cudaMemPrefetchAsync(d_distances, num_references * sizeof(int), device, NULL);\n",
        "\n",
        "    // Kernel parameters\n",
        "    int threadsPerBlock = 256;\n",
        "    int blocksPerGrid = (num_references + threadsPerBlock - 1) / threadsPerBlock;\n",
        "\n",
        "    // Number of times the program is executed\n",
        "    const size_t loope = 10;\n",
        "\n",
        "    printf(\"*** function = Levenshtein Distance\\n\");\n",
        "    printf(\"numReferences = %d\\n\", num_references);\n",
        "    printf(\"numBlocks = %d, numThreads = %d\\n\", blocksPerGrid, threadsPerBlock);\n",
        "\n",
        "    // Execute kernel multiple times\n",
        "    for (size_t i = 0; i < loope; i++) {\n",
        "        levenshtein_kernel<<<blocksPerGrid, threadsPerBlock>>>(query_length, references, d_reference_lengths, d_distances, num_references);\n",
        "    }\n",
        "\n",
        "    // Synchronize device\n",
        "    cudaDeviceSynchronize();\n",
        "\n",
        "    // Prefetch distances back to CPU\n",
        "    cudaMemPrefetchAsync(d_distances, num_references * sizeof(int), cudaCpuDeviceId, NULL);\n",
        "    cudaDeviceSynchronize();\n",
        "\n",
        "    // Error checking: compute expected distance on host using the host copy of Eq (h_Eq).\n",
        "    size_t err_count = 0;\n",
        "    for (int i = 0; i < num_references; i++) {\n",
        "        int expected_distance = bit_vector_levenshtein(query_length, references_input[i], reference_lengths[i], h_Eq);\n",
        "        if (d_distances[i] != expected_distance) {\n",
        "            err_count++;\n",
        "        }\n",
        "    }\n",
        "    printf(\"Error count (CUDA program): %zu\\n\", err_count);\n",
        "\n",
        "    // Print results\n",
        "    for (int i = 0; i < num_references; i++) {\n",
        "        printf(\"Edit Distance between query \\\"%s\\\" and reference \\\"%s\\\" is: %d\\n\", query, references_input[i], d_distances[i]);\n",
        "    }\n",
        "\n",
        "    // Free memory\n",
        "    cudaFree(references);\n",
        "    cudaFree(d_reference_lengths);\n",
        "    cudaFree(d_distances);\n",
        "\n",
        "    return 0;\n",
        "}\n"
      ],
      "metadata": {
        "id": "N9wXykapjxso",
        "outputId": "88b0efce-3330-41cf-e6e4-c02628faf424",
        "colab": {
          "base_uri": "https://localhost:8080/"
        }
      },
      "execution_count": 5,
      "outputs": [
        {
          "output_type": "stream",
          "name": "stdout",
          "text": [
            "Overwriting CUDA.cu\n"
          ]
        }
      ]
    },
    {
      "cell_type": "code",
      "source": [
        "%%shell\n",
        "nvcc -o CUDA CUDA.cu -arch=sm_75"
      ],
      "metadata": {
        "id": "1_dANIuzj6pA",
        "outputId": "5cbd4b1e-fc9a-4d0c-ef5e-cecdec0b6a5c",
        "colab": {
          "base_uri": "https://localhost:8080/"
        }
      },
      "execution_count": 6,
      "outputs": [
        {
          "output_type": "execute_result",
          "data": {
            "text/plain": []
          },
          "metadata": {},
          "execution_count": 6
        }
      ]
    },
    {
      "cell_type": "code",
      "source": [
        "%%shell\n",
        "nvprof ./CUDA"
      ],
      "metadata": {
        "id": "ClK1DA0Dj-QB",
        "outputId": "3199ef87-9795-4b48-d975-cf3195103d71",
        "colab": {
          "base_uri": "https://localhost:8080/"
        }
      },
      "execution_count": 7,
      "outputs": [
        {
          "output_type": "stream",
          "name": "stdout",
          "text": [
            "==4230== NVPROF is profiling process 4230, command: ./CUDA\n",
            "*** function = Levenshtein Distance\n",
            "numReferences = 2\n",
            "numBlocks = 1, numThreads = 256\n",
            "Error count (CUDA program): 0\n",
            "Edit Distance between query \"tcg\" and reference \"attattcga\" is: 1\n",
            "Edit Distance between query \"tcg\" and reference \"atttcatctcgt\" is: 1\n",
            "==4230== Profiling application: ./CUDA\n",
            "==4230== Profiling result:\n",
            "            Type  Time(%)      Time     Calls       Avg       Min       Max  Name\n",
            " GPU activities:   99.63%  214.62us        10  21.461us  5.5030us  164.38us  levenshtein_kernel(int, char const *, int const *, int*, int)\n",
            "                    0.37%     800ns         1     800ns     800ns     800ns  [CUDA memcpy HtoD]\n",
            "      API calls:   82.26%  98.943ms         1  98.943ms  98.943ms  98.943ms  cudaMemcpyToSymbol\n",
            "                   16.93%  20.367ms         3  6.7890ms  4.8820us  20.337ms  cudaMallocManaged\n",
            "                    0.26%  311.13us         4  77.781us  11.355us  156.13us  cudaMemPrefetchAsync\n",
            "                    0.14%  170.58us         3  56.860us  14.642us  115.86us  cudaFree\n",
            "                    0.14%  169.17us         2  84.582us  3.4040us  165.76us  cudaDeviceSynchronize\n",
            "                    0.12%  140.06us       114  1.2280us     104ns  58.191us  cuDeviceGetAttribute\n",
            "                    0.09%  106.50us        10  10.650us  4.1410us  45.359us  cudaLaunchKernel\n",
            "                    0.05%  54.856us         3  18.285us  2.7290us  44.147us  cudaMemAdvise\n",
            "                    0.01%  11.122us         1  11.122us  11.122us  11.122us  cuDeviceGetName\n",
            "                    0.00%  5.1530us         1  5.1530us  5.1530us  5.1530us  cuDeviceGetPCIBusId\n",
            "                    0.00%  2.0690us         1  2.0690us  2.0690us  2.0690us  cudaGetDevice\n",
            "                    0.00%  1.4850us         3     495ns     114ns  1.2050us  cuDeviceGetCount\n",
            "                    0.00%     810ns         2     405ns     122ns     688ns  cuDeviceGet\n",
            "                    0.00%     533ns         1     533ns     533ns     533ns  cuDeviceTotalMem\n",
            "                    0.00%     390ns         1     390ns     390ns     390ns  cuModuleGetLoadingMode\n",
            "                    0.00%     276ns         1     276ns     276ns     276ns  cuDeviceGetUuid\n",
            "\n",
            "==4230== Unified Memory profiling result:\n",
            "Device \"Tesla T4 (0)\"\n",
            "   Count  Avg Size  Min Size  Max Size  Total Size  Total Time  Name\n",
            "       1  4.0000KB  4.0000KB  4.0000KB  4.000000KB  3.008000us  Host To Device\n",
            "       1  4.0000KB  4.0000KB  4.0000KB  4.000000KB  1.856000us  Device To Host\n",
            "       1         -         -         -           -  156.2210us  Gpu page fault groups\n",
            "Total CPU Page faults: 1\n"
          ]
        },
        {
          "output_type": "execute_result",
          "data": {
            "text/plain": []
          },
          "metadata": {},
          "execution_count": 7
        }
      ]
    }
  ]
}