{
  "nbformat": 4,
  "nbformat_minor": 0,
  "metadata": {
    "colab": {
      "provenance": [],
      "authorship_tag": "ABX9TyN4IkWrf3lp6Q+mDHNVyqvC",
      "include_colab_link": true
    },
    "kernelspec": {
      "name": "python3",
      "display_name": "Python 3"
    },
    "language_info": {
      "name": "python"
    }
  },
  "cells": [
    {
      "cell_type": "markdown",
      "metadata": {
        "id": "view-in-github",
        "colab_type": "text"
      },
      "source": [
        "<a href=\"https://colab.research.google.com/github/MichaelGelo/GRP2_CEPARCO_IP/blob/main/CEPARCO_IP.ipynb\" target=\"_parent\"><img src=\"https://colab.research.google.com/assets/colab-badge.svg\" alt=\"Open In Colab\"/></a>"
      ]
    },
    {
      "cell_type": "markdown",
      "source": [
        "# **Group 2 - Implementing Hyyrö’s Bit Vector Algorithm Using CUDA SIMT**\n",
        "## **GROUP 2 - S11**\n",
        "\n",
        "**MEMBERS:**\n",
        "\n",
        "- Alfred Bastin S. Agustines\n",
        "- Allan David C. De Leon\n",
        "- Michael Angelo Depasucat\n",
        "- Kai Hiori J. Padilla\n"
      ],
      "metadata": {
        "id": "lYFAEMSCjMia"
      }
    },
    {
      "cell_type": "markdown",
      "source": [
        "##Check if CUDA is present"
      ],
      "metadata": {
        "id": "F2WHo8MojeI2"
      }
    },
    {
      "cell_type": "code",
      "execution_count": null,
      "metadata": {
        "id": "FMQ6IHLDh37V"
      },
      "outputs": [],
      "source": [
        "gpu_info = !nvidia-smi\n",
        "gpu_info = '\\n'.join(gpu_info)\n",
        "if gpu_info.find('failed') >= 0:\n",
        "  print('Not connected to a GPU')\n",
        "else:\n",
        "  print(gpu_info)"
      ]
    },
    {
      "cell_type": "markdown",
      "source": [
        "##Integrating Project"
      ],
      "metadata": {
        "id": "iZ2Zjg52jlxE"
      }
    },
    {
      "cell_type": "code",
      "source": [
        "%%writefile CUDA.cu\n",
        "\n",
        "#include <stdio.h>\n",
        "#include <stdlib.h>\n",
        "// Prefetch + page creation + memadvise\n",
        "\n",
        "//CUDA saxpy kernel\n",
        "__global__\n",
        "void saxpy(size_t n, float a, float *out, float *x, float *y){\n",
        "    int index = blockIdx.x * blockDim.x + threadIdx.x;\n",
        "    int stride = blockDim.x * gridDim.x;\n",
        "\n",
        "    for (int i = index; i < n; i += stride)\n",
        "        out[i] = a * x[i] + y[i];\n",
        "\n",
        "}\n",
        "\n",
        "int main(){\n",
        "  const size_t ARRAY_SIZE = 1<<24;\n",
        "  const size_t ARRAY_BYTES = ARRAY_SIZE * sizeof(float);\n",
        "\n",
        " //number of times the program is to be executed\n",
        "   const size_t loope = 10;\n",
        "\n",
        "//declare array\n",
        "  float *x, *y, *out;\n",
        "  cudaMallocManaged(&x, ARRAY_BYTES);\n",
        "  cudaMallocManaged(&y, ARRAY_BYTES);\n",
        "  cudaMallocManaged(&out, ARRAY_BYTES);\n",
        "\n",
        "//get gpu id\n",
        "  int device = -1;\n",
        "  cudaGetDevice(&device);\n",
        "\n",
        " // memory advise\n",
        "  cudaMemAdvise(x, ARRAY_BYTES, cudaMemAdviseSetPreferredLocation, cudaCpuDeviceId);\n",
        "  cudaMemAdvise(x, ARRAY_BYTES, cudaMemAdviseSetReadMostly, cudaCpuDeviceId);\n",
        "  cudaMemAdvise(y, ARRAY_BYTES, cudaMemAdviseSetPreferredLocation, cudaCpuDeviceId);\n",
        "  cudaMemAdvise(y, ARRAY_BYTES, cudaMemAdviseSetReadMostly, cudaCpuDeviceId);\n",
        "\n",
        "//\"prefetch data\" to create CPU page memory\n",
        "  cudaMemPrefetchAsync(x, ARRAY_BYTES, cudaCpuDeviceId, NULL);\n",
        "  cudaMemPrefetchAsync(y, ARRAY_BYTES, cudaCpuDeviceId, NULL);\n",
        "\n",
        "//\"prefetch data\" to create GPU page memory\n",
        "  cudaMemPrefetchAsync(out, ARRAY_BYTES, device, NULL);\n",
        "\n",
        "// *** init array\n",
        "  for (size_t i=0; i<ARRAY_SIZE; i++){\n",
        "     x[i] = (float)i;\n",
        "     y[i] = (float)(ARRAY_SIZE - i);\n",
        "  }\n",
        "  float a = 2.0f;\n",
        "\n",
        "//\"Prefetch data\" from CPU-GPU\n",
        "  cudaMemPrefetchAsync(x, ARRAY_BYTES, device, NULL);\n",
        "  cudaMemPrefetchAsync(y, ARRAY_BYTES, device, NULL);\n",
        "\n",
        "// *** setup CUDA kernel\n",
        "  size_t numThreads = 1024;\n",
        "  size_t numBlocks = (ARRAY_SIZE + numThreads-1) / numThreads;\n",
        "\n",
        "  printf(\"*** function = SAXPY\\n\");\n",
        "  printf(\"numElements = %lu\\n\", ARRAY_SIZE);\n",
        "  printf(\"numBlocks = %lu, numThreads = %lu \\n\",numBlocks,numThreads);\n",
        "  for (size_t i=0; i<loope;i++)\n",
        "    saxpy<<<numBlocks, numThreads>>>(ARRAY_SIZE, a, out, x, y);\n",
        "\n",
        "//barrier\n",
        "    cudaDeviceSynchronize();\n",
        "\n",
        "//\"Prefetch data\" from GPU-CPU\n",
        "  cudaMemPrefetchAsync(out, ARRAY_BYTES, cudaCpuDeviceId, NULL);\n",
        "\n",
        "//error checking\n",
        "  size_t err_count = 0;\n",
        "  for (size_t i=0; i<ARRAY_SIZE; i++){\n",
        "    if(out[i] != (a * x[i] + y[i]))\n",
        "      err_count++;\n",
        "  }\n",
        "  printf(\"Error count(CUDA program): %zu\\n\", err_count);\n",
        "\n",
        "//free memory\n",
        "  cudaFree(x);\n",
        "  cudaFree(y);\n",
        "  cudaFree(out);\n",
        "\n",
        "  return 0;\n",
        "}"
      ],
      "metadata": {
        "id": "N9wXykapjxso"
      },
      "execution_count": null,
      "outputs": []
    },
    {
      "cell_type": "code",
      "source": [
        "%%shell\n",
        "nvcc CUDA.cu -o CUDA"
      ],
      "metadata": {
        "id": "1_dANIuzj6pA"
      },
      "execution_count": null,
      "outputs": []
    },
    {
      "cell_type": "code",
      "source": [
        "%%shell\n",
        "nvprof ./CUDA"
      ],
      "metadata": {
        "id": "ClK1DA0Dj-QB"
      },
      "execution_count": null,
      "outputs": []
    }
  ]
}